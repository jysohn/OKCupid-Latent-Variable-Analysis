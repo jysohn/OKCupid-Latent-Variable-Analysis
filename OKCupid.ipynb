{
  "nbformat": 4,
  "nbformat_minor": 0,
  "metadata": {
    "colab": {
      "name": "OKCupid.ipynb",
      "version": "0.3.2",
      "provenance": [],
      "collapsed_sections": []
    },
    "kernelspec": {
      "name": "python3",
      "display_name": "Python 3"
    }
  },
  "cells": [
    {
      "metadata": {
        "id": "0dSNmTGbkBLi",
        "colab_type": "text"
      },
      "cell_type": "markdown",
      "source": [
        "# Load Data"
      ]
    },
    {
      "metadata": {
        "id": "PBR7Qg_Mj3vd",
        "colab_type": "code",
        "outputId": "6d31d2a0-6cf8-4009-a3e1-af4889f580f5",
        "colab": {
          "base_uri": "https://localhost:8080/",
          "height": 53
        }
      },
      "cell_type": "code",
      "source": [
        "# Code to read csv file into Colaboratory:\n",
        "!pip install -U -q PyDrive\n",
        "# !pip install pandas==0.24.1"
      ],
      "execution_count": 3,
      "outputs": [
        {
          "output_type": "stream",
          "text": [
            "\u001b[?25l\r\u001b[K    1% |▎                               | 10kB 18.3MB/s eta 0:00:01\r\u001b[K    2% |▋                               | 20kB 1.7MB/s eta 0:00:01\r\u001b[K    3% |█                               | 30kB 2.5MB/s eta 0:00:01\r\u001b[K    4% |█▎                              | 40kB 1.7MB/s eta 0:00:01\r\u001b[K    5% |█▋                              | 51kB 2.0MB/s eta 0:00:01\r\u001b[K    6% |██                              | 61kB 2.4MB/s eta 0:00:01\r\u001b[K    7% |██▎                             | 71kB 2.8MB/s eta 0:00:01\r\u001b[K    8% |██▋                             | 81kB 3.1MB/s eta 0:00:01\r\u001b[K    9% |███                             | 92kB 3.5MB/s eta 0:00:01\r\u001b[K    10% |███▎                            | 102kB 2.7MB/s eta 0:00:01\r\u001b[K    11% |███▋                            | 112kB 2.7MB/s eta 0:00:01\r\u001b[K    12% |████                            | 122kB 3.9MB/s eta 0:00:01\r\u001b[K    13% |████▎                           | 133kB 3.9MB/s eta 0:00:01\r\u001b[K    14% |████▋                           | 143kB 7.2MB/s eta 0:00:01\r\u001b[K    15% |█████                           | 153kB 7.4MB/s eta 0:00:01\r\u001b[K    16% |█████▎                          | 163kB 7.4MB/s eta 0:00:01\r\u001b[K    17% |█████▋                          | 174kB 7.5MB/s eta 0:00:01\r\u001b[K    18% |██████                          | 184kB 7.5MB/s eta 0:00:01\r\u001b[K    19% |██████▎                         | 194kB 7.5MB/s eta 0:00:01\r\u001b[K    20% |██████▋                         | 204kB 33.6MB/s eta 0:00:01\r\u001b[K    21% |███████                         | 215kB 8.4MB/s eta 0:00:01\r\u001b[K    22% |███████▎                        | 225kB 8.3MB/s eta 0:00:01\r\u001b[K    23% |███████▋                        | 235kB 8.4MB/s eta 0:00:01\r\u001b[K    24% |████████                        | 245kB 8.4MB/s eta 0:00:01\r\u001b[K    25% |████████▎                       | 256kB 8.4MB/s eta 0:00:01\r\u001b[K    26% |████████▋                       | 266kB 8.1MB/s eta 0:00:01\r\u001b[K    27% |█████████                       | 276kB 8.2MB/s eta 0:00:01\r\u001b[K    29% |█████████▎                      | 286kB 8.2MB/s eta 0:00:01\r\u001b[K    30% |█████████▋                      | 296kB 8.1MB/s eta 0:00:01\r\u001b[K    31% |██████████                      | 307kB 8.3MB/s eta 0:00:01\r\u001b[K    32% |██████████▎                     | 317kB 35.6MB/s eta 0:00:01\r\u001b[K    33% |██████████▋                     | 327kB 37.3MB/s eta 0:00:01\r\u001b[K    34% |███████████                     | 337kB 36.9MB/s eta 0:00:01\r\u001b[K    35% |███████████▎                    | 348kB 32.8MB/s eta 0:00:01\r\u001b[K    36% |███████████▋                    | 358kB 33.2MB/s eta 0:00:01\r\u001b[K    37% |████████████                    | 368kB 39.8MB/s eta 0:00:01\r\u001b[K    38% |████████████▎                   | 378kB 39.9MB/s eta 0:00:01\r\u001b[K    39% |████████████▋                   | 389kB 40.5MB/s eta 0:00:01\r\u001b[K    40% |█████████████                   | 399kB 40.3MB/s eta 0:00:01\r\u001b[K    41% |█████████████▎                  | 409kB 42.6MB/s eta 0:00:01\r\u001b[K    42% |█████████████▋                  | 419kB 45.4MB/s eta 0:00:01\r\u001b[K    43% |██████████████                  | 430kB 46.5MB/s eta 0:00:01\r\u001b[K    44% |██████████████▎                 | 440kB 48.2MB/s eta 0:00:01\r\u001b[K    45% |██████████████▋                 | 450kB 11.4MB/s eta 0:00:01\r\u001b[K    46% |███████████████                 | 460kB 10.7MB/s eta 0:00:01\r\u001b[K    47% |███████████████▎                | 471kB 10.6MB/s eta 0:00:01\r\u001b[K    48% |███████████████▋                | 481kB 10.6MB/s eta 0:00:01\r\u001b[K    49% |████████████████                | 491kB 10.6MB/s eta 0:00:01\r\u001b[K    50% |████████████████▎               | 501kB 10.6MB/s eta 0:00:01\r\u001b[K    51% |████████████████▋               | 512kB 10.2MB/s eta 0:00:01\r\u001b[K    52% |█████████████████               | 522kB 10.2MB/s eta 0:00:01\r\u001b[K    53% |█████████████████▎              | 532kB 10.2MB/s eta 0:00:01\r\u001b[K    54% |█████████████████▋              | 542kB 10.2MB/s eta 0:00:01\r\u001b[K    55% |██████████████████              | 552kB 37.6MB/s eta 0:00:01\r\u001b[K    57% |██████████████████▎             | 563kB 46.5MB/s eta 0:00:01\r\u001b[K    58% |██████████████████▋             | 573kB 48.2MB/s eta 0:00:01\r\u001b[K    59% |███████████████████             | 583kB 48.9MB/s eta 0:00:01\r\u001b[K    60% |███████████████████▎            | 593kB 49.0MB/s eta 0:00:01\r\u001b[K    61% |███████████████████▋            | 604kB 49.1MB/s eta 0:00:01\r\u001b[K    62% |████████████████████            | 614kB 61.0MB/s eta 0:00:01\r\u001b[K    63% |████████████████████▎           | 624kB 60.9MB/s eta 0:00:01\r\u001b[K    64% |████████████████████▋           | 634kB 61.2MB/s eta 0:00:01\r\u001b[K    65% |█████████████████████           | 645kB 61.2MB/s eta 0:00:01\r\u001b[K    66% |█████████████████████▎          | 655kB 59.9MB/s eta 0:00:01\r\u001b[K    67% |█████████████████████▋          | 665kB 41.8MB/s eta 0:00:01\r\u001b[K    68% |██████████████████████          | 675kB 41.8MB/s eta 0:00:01\r\u001b[K    69% |██████████████████████▎         | 686kB 42.3MB/s eta 0:00:01\r\u001b[K    70% |██████████████████████▋         | 696kB 42.5MB/s eta 0:00:01\r\u001b[K    71% |███████████████████████         | 706kB 41.7MB/s eta 0:00:01\r\u001b[K    72% |███████████████████████▎        | 716kB 42.0MB/s eta 0:00:01\r\u001b[K    73% |███████████████████████▋        | 727kB 42.5MB/s eta 0:00:01\r\u001b[K    74% |████████████████████████        | 737kB 42.4MB/s eta 0:00:01\r\u001b[K    75% |████████████████████████▎       | 747kB 42.5MB/s eta 0:00:01\r\u001b[K    76% |████████████████████████▋       | 757kB 42.1MB/s eta 0:00:01\r\u001b[K    77% |████████████████████████▉       | 768kB 61.4MB/s eta 0:00:01\r\u001b[K    78% |█████████████████████████▏      | 778kB 62.8MB/s eta 0:00:01\r\u001b[K    79% |█████████████████████████▌      | 788kB 61.9MB/s eta 0:00:01\r\u001b[K    80% |█████████████████████████▉      | 798kB 62.5MB/s eta 0:00:01\r\u001b[K    81% |██████████████████████████▏     | 808kB 63.5MB/s eta 0:00:01\r\u001b[K    82% |██████████████████████████▌     | 819kB 16.0MB/s eta 0:00:01\r\u001b[K    83% |██████████████████████████▉     | 829kB 15.5MB/s eta 0:00:01\r\u001b[K    85% |███████████████████████████▏    | 839kB 15.5MB/s eta 0:00:01\r\u001b[K    86% |███████████████████████████▌    | 849kB 15.4MB/s eta 0:00:01\r\u001b[K    87% |███████████████████████████▉    | 860kB 14.3MB/s eta 0:00:01\r\u001b[K    88% |████████████████████████████▏   | 870kB 14.3MB/s eta 0:00:01\r\u001b[K    89% |████████████████████████████▌   | 880kB 14.3MB/s eta 0:00:01\r\u001b[K    90% |████████████████████████████▉   | 890kB 14.3MB/s eta 0:00:01\r\u001b[K    91% |█████████████████████████████▏  | 901kB 14.3MB/s eta 0:00:01\r\u001b[K    92% |█████████████████████████████▌  | 911kB 14.3MB/s eta 0:00:01\r\u001b[K    93% |█████████████████████████████▉  | 921kB 42.9MB/s eta 0:00:01\r\u001b[K    94% |██████████████████████████████▏ | 931kB 46.5MB/s eta 0:00:01\r\u001b[K    95% |██████████████████████████████▌ | 942kB 47.7MB/s eta 0:00:01\r\u001b[K    96% |██████████████████████████████▉ | 952kB 47.2MB/s eta 0:00:01\r\u001b[K    97% |███████████████████████████████▏| 962kB 63.6MB/s eta 0:00:01\r\u001b[K    98% |███████████████████████████████▌| 972kB 64.8MB/s eta 0:00:01\r\u001b[K    99% |███████████████████████████████▉| 983kB 62.2MB/s eta 0:00:01\r\u001b[K    100% |████████████████████████████████| 993kB 17.7MB/s \n",
            "\u001b[?25h  Building wheel for PyDrive (setup.py) ... \u001b[?25ldone\n",
            "\u001b[?25h"
          ],
          "name": "stdout"
        }
      ]
    },
    {
      "metadata": {
        "id": "tHTNUFVZPTN-",
        "colab_type": "code",
        "colab": {}
      },
      "cell_type": "code",
      "source": [
        "from pydrive.auth import GoogleAuth\n",
        "from pydrive.drive import GoogleDrive\n",
        "from google.colab import auth\n",
        "from oauth2client.client import GoogleCredentials\n",
        "# Authenticate and create the PyDrive client.\n",
        "auth.authenticate_user()\n",
        "gauth = GoogleAuth()\n",
        "gauth.credentials = GoogleCredentials.get_application_default()\n",
        "drive = GoogleDrive(gauth)"
      ],
      "execution_count": 0,
      "outputs": []
    },
    {
      "metadata": {
        "id": "HCxtoBIMlKMc",
        "colab_type": "code",
        "colab": {}
      },
      "cell_type": "code",
      "source": [
        "import pandas as pd\n",
        "import numpy as np\n",
        "import matplotlib.pyplot as plt\n",
        "%matplotlib inline\n",
        "pd.options.display.max_columns = 100\n",
        "from sklearn.model_selection import train_test_split\n",
        "\n",
        "\n",
        "link = 'https://drive.google.com/open?id=1G9OJtX53sYWipSayEojSWiE9DF3_mrJ7'\n",
        "fluff, id = link.split('=')\n",
        "downloaded = drive.CreateFile({'id':id}) \n",
        "downloaded.GetContentFile('profiles.csv')  \n",
        "profiles = pd.read_csv('profiles.csv')\n"
      ],
      "execution_count": 0,
      "outputs": []
    },
    {
      "metadata": {
        "id": "7CP6KxBdBnFU",
        "colab_type": "code",
        "colab": {}
      },
      "cell_type": "code",
      "source": [
        "def age(i):\n",
        "    if i >= 20 and i < 30:\n",
        "        return '20s'\n",
        "    elif i >= 30 and i < 40:\n",
        "        return '30s'\n",
        "    elif i >= 40 and i < 50:\n",
        "        return '40s'\n",
        "    elif i >= 50 and i < 60:\n",
        "        return '50s'\n",
        "    else:\n",
        "         return '60s'\n",
        "        \n",
        "def height(i):\n",
        "    if i <= 48:\n",
        "        return '4ft_less'\n",
        "    elif i <= 60:\n",
        "        return '5ft_less'\n",
        "    elif i <= 72:\n",
        "        return '6ft_less'\n",
        "    else:\n",
        "        return 'more_6ft'\n",
        "\n",
        "profiles.loc[:,'age'] = [age(i) for i in profiles.loc[:,'age']]\n",
        "profiles.loc[:,'height'] = [height(i) for i in profiles.loc[:,'height']]\n"
      ],
      "execution_count": 0,
      "outputs": []
    },
    {
      "metadata": {
        "id": "IUMShIZflpPN",
        "colab_type": "code",
        "colab": {}
      },
      "cell_type": "code",
      "source": [
        "# remove speaks\n",
        "categorical_columns = ['age',\n",
        "                       'height',\n",
        "                       'body_type',\n",
        "                      'diet',\n",
        "                      'drinks',\n",
        "                      'drugs',\n",
        "                      'education',\n",
        "                      'ethnicity',\n",
        "                      'job',\n",
        "                      'offspring',\n",
        "                      'orientation',\n",
        "                      'pets',\n",
        "                      'religion',\n",
        "                       'sign',\n",
        "                       'sex',\n",
        "                       'smokes',\n",
        "                       'status']\n",
        "\n",
        "\n",
        "profiles2 = pd.get_dummies(profiles, \n",
        "                                columns = categorical_columns)  \n",
        "\n",
        "profiles_train, profiles_test = train_test_split(profiles2, test_size=0.2, random_state=5)"
      ],
      "execution_count": 0,
      "outputs": []
    },
    {
      "metadata": {
        "id": "-xYJYFeNtLD4",
        "colab_type": "code",
        "colab": {}
      },
      "cell_type": "code",
      "source": [
        "# sex = profiles_train.loc[:,'sex']\n",
        "# sex_test = profiles_test.loc[:,'sex']\n",
        "\n",
        "profiles_train = profiles_train.drop(columns=['income'])\n",
        "profiles_test = profiles_test.drop(columns=['income'])\n",
        "\n",
        "\n",
        "sub_columns = [c for c in profiles_train.columns.values if \n",
        "              (profiles_train[c].dtype == np.uint8) or \n",
        "               (profiles_train[c].dtype == np.int64) or\n",
        "               (profiles_train[c].dtype == np.float64)]\n",
        "\n",
        "\n",
        "\n",
        "profiles_num = profiles_train[sub_columns]\n",
        "profiles_num = profiles_num.dropna()\n",
        "\n",
        "\n",
        "profiles_num_test = profiles_test[sub_columns]\n",
        "profiles_num_test = profiles_num_test.dropna()\n"
      ],
      "execution_count": 0,
      "outputs": []
    },
    {
      "metadata": {
        "id": "rasTrXXAzvPf",
        "colab_type": "text"
      },
      "cell_type": "markdown",
      "source": [
        "# PCA"
      ]
    },
    {
      "metadata": {
        "id": "6WLja6lmzugj",
        "colab_type": "code",
        "colab": {}
      },
      "cell_type": "code",
      "source": [
        "from sklearn.preprocessing import StandardScaler\n",
        "from sklearn.decomposition import PCA\n",
        "\n",
        "\n",
        "profiles_scale = StandardScaler().fit_transform(profiles_num)\n",
        "\n",
        "pca = PCA(n_components=5).fit(profiles_scale)\n",
        "transformed = pca.transform(profiles_scale)\n",
        "\n",
        "plt.figure()\n",
        "plt.plot(pca.explained_variance_)\n",
        "plt.xlabel('Component Number')\n",
        "plt.ylabel('Explained Variance');\n",
        "plt.title('PCA Variance Explained')\n",
        "\n",
        "print(pca.components_[0])\n",
        "display_topics(pca, profiles_num.columns, 10)\n",
        "print(pca.score(profiles_num))\n",
        "print(pca.score(profiles_num_test))\n",
        "\n",
        "component_m = []\n",
        "for person in transformed:\n",
        "    index = np.argmax(person)\n",
        "    component_m.append(index)\n",
        "\n",
        "component_count = np.bincount(component_m)\n",
        "plt.figure()\n",
        "plt.bar(range(5),component_count)\n",
        "plt.xlabel(\"Component #\")\n",
        "plt.ylabel(\"Number of people in component\")\n",
        "\n",
        "plt.show()"
      ],
      "execution_count": 0,
      "outputs": []
    },
    {
      "metadata": {
        "id": "VNYVixGPmu2z",
        "colab_type": "text"
      },
      "cell_type": "markdown",
      "source": [
        "# FA"
      ]
    },
    {
      "metadata": {
        "id": "caMjdcQtKThp",
        "colab_type": "code",
        "colab": {}
      },
      "cell_type": "code",
      "source": [
        "# Factor analysis\n",
        "from sklearn.decomposition import FactorAnalysis\n",
        "\n",
        "k = 5\n",
        "\n",
        "transformer = FactorAnalysis(n_components=k, random_state=0)\n",
        "profiles_transformed = transformer.fit_transform(profiles_num)\n",
        "\n",
        "# num observations x k\n",
        "Z_factor = profiles_transformed\n",
        "\n",
        "# k x num features\n",
        "lambda_loading = transformer.components_\n",
        "\n",
        "print(lambda_loading.shape)\n",
        "print(Z_factor.shape)\n",
        "print(transformer.score(profiles_num))\n",
        "print(transformer.score(profiles_num_test))"
      ],
      "execution_count": 0,
      "outputs": []
    },
    {
      "metadata": {
        "id": "TSvRj1-8ZqrS",
        "colab_type": "code",
        "colab": {}
      },
      "cell_type": "code",
      "source": [
        "scores = transformer.score_samples(profiles_num_test).tolist()\n",
        "scores_no_outlier = sorted(scores)\n",
        "print(scores_no_outlier)"
      ],
      "execution_count": 0,
      "outputs": []
    },
    {
      "metadata": {
        "id": "VhFRYqfBGM3S",
        "colab_type": "code",
        "colab": {}
      },
      "cell_type": "code",
      "source": [
        "display_topics(transformer, profiles_num.columns, 10)"
      ],
      "execution_count": 0,
      "outputs": []
    },
    {
      "metadata": {
        "id": "FkYOvZhfp19s",
        "colab_type": "code",
        "colab": {}
      },
      "cell_type": "code",
      "source": [
        "profiles_num.head()\n",
        "profiles_num_test.head()\n",
        "\n",
        "# profiles_num_test1 = profiles_num_test.drop([31494])\n",
        "\n",
        "print(transformer.score_samples(profiles_num_test)[:50])\n",
        "print(profiles_num_test.loc[31494,:])\n"
      ],
      "execution_count": 0,
      "outputs": []
    },
    {
      "metadata": {
        "id": "LyqApsMNfLtm",
        "colab_type": "code",
        "colab": {}
      },
      "cell_type": "code",
      "source": [
        "noise = transformer.noise_variance_\n",
        "\n",
        "m1 = lambda_loading**2\n",
        "m2 = np.sum(m1,axis=1)\n",
        "\n",
        "pvar = []\n",
        "for i in range(len(m2)):\n",
        "    pvar.append((100*m2[i])/np.sum(m2))\n",
        "\n",
        "print(pvar)    \n",
        "plt.plot(pvar)\n",
        "  \n",
        "pvar_sort = sorted(pvar, reverse=True)\n",
        "plt.figure()\n",
        "plt.plot(np.cumsum(pvar))\n",
        "\n",
        "# test_transformed = transformer.transform(profiles_num_test)\n",
        "\n",
        "# train_err = np.linalg.norm(profiles_num - np.matmul(Z_factor, lambda_loading))\n",
        "# test_err = np.linalg.norm(profiles_num_test - np.matmul(test_transformed, lambda_loading))\n",
        "\n",
        "\n",
        "# print(train_err)\n",
        "# print(test_err)\n",
        "\n",
        "\n",
        "# c2 = np.sum(lambda_loading ** 2, axis=1)\n",
        "# total_variance_ = np.sum(c2)\n",
        "# pvars_ = 100 * c2 / total_variance_\n",
        "# pvars_noise_ = 100 * c2 / (total_variance_ +\n",
        "#                                         np.sum(noise))\n",
        "\n",
        "# print(pvars_noise_)\n",
        "# print(np.sum(pvars_))\n",
        "\n",
        "# # plt.plot(pvars_noise_)\n",
        "# # plt.xlabel('component index')\n",
        "# # plt.ylabel('% explained variance');\n",
        "\n",
        "\n",
        "# pvars_sort = np.sort(pvars_)\n",
        "# plt.plot(np.cumsum(pvars_sort))\n",
        "\n"
      ],
      "execution_count": 0,
      "outputs": []
    },
    {
      "metadata": {
        "id": "KK6xKdIDHTlF",
        "colab_type": "code",
        "colab": {}
      },
      "cell_type": "code",
      "source": [
        "component_m = []\n",
        "for person in Z_factor:\n",
        "    index = np.argmax(person)\n",
        "    component_m.append(index)\n",
        "\n",
        "component_count = np.bincount(component_m)\n",
        "plt.bar(range(1,6,1),component_count)\n",
        "plt.xlabel(\"Factor #\")\n",
        "plt.ylabel(\"Number of people in factor\")\n",
        "\n",
        "plt.show()"
      ],
      "execution_count": 0,
      "outputs": []
    },
    {
      "metadata": {
        "id": "GFBFc2Soz2_w",
        "colab_type": "text"
      },
      "cell_type": "markdown",
      "source": [
        "# LDA\n"
      ]
    },
    {
      "metadata": {
        "id": "-YFkeEL7iLas",
        "colab_type": "code",
        "colab": {}
      },
      "cell_type": "code",
      "source": [
        "def display_topics(model, feature_names, no_top_words):\n",
        "#     abs_components = np.absolute(model.components_)\n",
        "    for topic_idx, topic in enumerate(model.components_):\n",
        "        print(\"Topic %d:\" % (topic_idx))\n",
        "        print(\"\\n\".join([feature_names[i]\n",
        "                        for i in topic.argsort()[:-no_top_words - 1:-1]]))\n",
        "        print()\n",
        "\n"
      ],
      "execution_count": 0,
      "outputs": []
    },
    {
      "metadata": {
        "id": "_VM5Lym4ry0t",
        "colab_type": "code",
        "colab": {}
      },
      "cell_type": "code",
      "source": [
        "from sklearn.decomposition import LatentDirichletAllocation\n",
        "\n",
        "k = 5\n",
        "lda = LatentDirichletAllocation(n_components = k)\n",
        "transformed_data = lda.fit_transform(profiles_num)"
      ],
      "execution_count": 0,
      "outputs": []
    },
    {
      "metadata": {
        "id": "k7V2PQktt510",
        "colab_type": "code",
        "colab": {}
      },
      "cell_type": "code",
      "source": [
        "print(\"Component shape m:\", lda.components_.shape)\n",
        "print(\"User profiles m : \", transformed_data.shape)\n",
        "\n",
        "no_top_words = 10\n",
        "display_topics(lda, profiles_num.columns, no_top_words)"
      ],
      "execution_count": 0,
      "outputs": []
    },
    {
      "metadata": {
        "id": "qrPBYNwCsUEy",
        "colab_type": "code",
        "colab": {}
      },
      "cell_type": "code",
      "source": [
        "print(lda.score(profiles_num)/profiles_num.shape[0])\n",
        "print(lda.score(profiles_num_test)/profiles_num_test.shape[0])\n",
        "\n",
        "component_m = []\n",
        "for person in transformed_data:\n",
        "    index = np.argmax(person)\n",
        "    component_m.append(index)\n",
        "\n",
        "component_count = np.bincount(component_m)\n",
        "print(component_count)\n",
        "plt.bar(range(1,6,1),component_count)\n",
        "plt.xlabel(\"Factor #\")\n",
        "plt.ylabel(\"Number of people in factor\")\n",
        "\n",
        "plt.show()\n",
        "\n",
        "# for i in range(k):\n",
        "#     plt.figure()\n",
        "#     plt.hist(transformed_data[:, i], alpha=0.3, label=\"Latent User \" + str(i+1),\n",
        "#             range=(0,1), bins=20)\n",
        "#     plt.xlabel(\"User Proportion from Latent User i\", fontsize=20)\n",
        "#     plt.ylabel(\"Count\", fontsize=20)\n",
        "#     plt.tick_params(labelsize=15)\n",
        "#     plt.legend()\n",
        "#     plt.show()"
      ],
      "execution_count": 0,
      "outputs": []
    },
    {
      "metadata": {
        "id": "_eUhcY-asIAL",
        "colab_type": "text"
      },
      "cell_type": "markdown",
      "source": [
        "# Old  LDA"
      ]
    },
    {
      "metadata": {
        "id": "i8gnwBgXETX1",
        "colab_type": "code",
        "colab": {}
      },
      "cell_type": "code",
      "source": [
        "from mpl_toolkits import mplot3d\n",
        "\n",
        "# pca3 = PCA(n_components=3)\n",
        "\n",
        "# principalComponents = pca3.fit_transform(profiles_scale)\n",
        "# principalDf = pd.DataFrame(data = principalComponents\n",
        "#              , columns = ['principal component 1', 'principal component 2', 'principal component 3'])\n",
        "\n",
        "\n",
        "fig = plt.figure(figsize = (8,8))\n",
        "ax = fig.add_subplot(111, projection='3d')\n",
        "\n",
        "ax.set_xlabel('Principal Component 1', fontsize = 15)\n",
        "ax.set_ylabel('Principal Component 2', fontsize = 15)\n",
        "ax.set_zlabel('Principal Component 3', fontsize = 15)\n",
        "ax.set_title('3 component PCA', fontsize = 20)\n",
        "\n",
        "\n",
        "ax.azim = 140\n",
        "\n",
        "targets = [1,2,3,4,5]\n",
        "colors = ['b', 'r','g','y','m']\n",
        "\n",
        "# print(principalDf)\n",
        "temp = np.array(profiles_lda['sex_m']==1)\n",
        "principalDf_m = principalDf.loc[temp,:]\n",
        "\n",
        "\n",
        "for target, color in zip(targets,colors):\n",
        "    indicesToKeep = gmodels == target\n",
        "    ax.scatter(principalDf_m.loc[indicesToKeep, 'principal component 1']\n",
        "               ,principalDf_m.loc[indicesToKeep, 'principal component 2']\n",
        "               ,principalDf_m.loc[indicesToKeep, 'principal component 3']\n",
        "               , c = color\n",
        "               , s = 50)\n",
        "ax.legend(targets)\n",
        "ax.grid()"
      ],
      "execution_count": 0,
      "outputs": []
    },
    {
      "metadata": {
        "id": "5h4Q1cHUbdi0",
        "colab_type": "code",
        "colab": {}
      },
      "cell_type": "code",
      "source": [
        "from sklearn.decomposition import LatentDirichletAllocation\n",
        "\n",
        "lda_m20 = LatentDirichletAllocation(n_components = 20)\n",
        "lda_m20.fit(profiles_lda_m.values)\n",
        "\n",
        "print(\"Component shape m:\", lda_m.components_.shape)\n",
        "\n",
        "transformed_m20 = lda_m.transform(profiles_lda_m.values)\n",
        "\n",
        "print(\"User profiles m : \", transformed_m20.shape)\n",
        "\n",
        "no_top_words = 10\n",
        "display_topics(lda_m20, profiles_lda_m.columns, no_top_words)"
      ],
      "execution_count": 0,
      "outputs": []
    },
    {
      "metadata": {
        "id": "zU1HJKyVlnmG",
        "colab_type": "code",
        "colab": {}
      },
      "cell_type": "code",
      "source": [
        "lda_f = LatentDirichletAllocation(n_components = 5)\n",
        "lda_f.fit(profiles_lda_f.values)\n",
        "\n",
        "print(\"Component shape f:\", lda_f.components_.shape)\n",
        "\n",
        "transformed_f = lda_f.transform(profiles_lda_f.values)\n",
        "\n",
        "print(\"User profiles f : \", transformed_f.shape)\n",
        "\n",
        "no_top_words = 10\n",
        "display_topics(lda_f, profiles_lda_f.columns, no_top_words)"
      ],
      "execution_count": 0,
      "outputs": []
    },
    {
      "metadata": {
        "id": "8Oop-nF-76Qx",
        "colab_type": "code",
        "colab": {}
      },
      "cell_type": "code",
      "source": [
        "plt.figure()\n",
        "for i in range(5):\n",
        "    plt.hist(transformed_m[:, i], alpha=0.3, label=str(i+1),\n",
        "            range=(0,1), bins=20)\n",
        "plt.xlabel(\"User Weight in Component i\", fontsize=20)\n",
        "plt.ylabel(\"Count\", fontsize=20)\n",
        "plt.tick_params(labelsize=15)\n",
        "plt.legend()\n",
        "plt.show()"
      ],
      "execution_count": 0,
      "outputs": []
    },
    {
      "metadata": {
        "id": "_6hp7uMt8-q7",
        "colab_type": "code",
        "colab": {}
      },
      "cell_type": "code",
      "source": [
        "component_m = []\n",
        "for person in transformed_m:\n",
        "    index = np.argmax(person)\n",
        "    component_m.append(index+1)\n",
        "print(component_m)\n",
        "\n",
        "s = pd.Series(component_m)\n",
        "s.describe()\n"
      ],
      "execution_count": 0,
      "outputs": []
    },
    {
      "metadata": {
        "id": "BEuG0kEEuVAE",
        "colab_type": "code",
        "colab": {}
      },
      "cell_type": "code",
      "source": [
        "c1 = lda_m.components_[0, :]\n",
        "c1_indices = np.where(c1 > np.percentile(c1, 80))[0]\n",
        "\n",
        "#c1_indices = np.array(sorted(c1_indices, key= lambda x: c1[x], reverse=True))\n",
        "\n",
        "\n",
        "top_c1_df = pd.DataFrame({'Component': profiles_onehot_m.columns.values[c1_indices],\n",
        "                         'Weight': c1[c1_indices]})\n",
        "\n",
        "top_c1_df.sort_values('Weight', inplace=True, ascending=False)\n",
        "\n",
        "top_c1_df.head(n=10)"
      ],
      "execution_count": 0,
      "outputs": []
    },
    {
      "metadata": {
        "id": "1TYKXhV0nf51",
        "colab_type": "code",
        "colab": {}
      },
      "cell_type": "code",
      "source": [
        "t1 = transformed_m[:, 4]\n",
        "print(t1.shape)\n",
        "\n",
        "\n",
        "print(\"Percentiles of user weights in this space:\")\n",
        "\n",
        "\n",
        "plt.figure()\n",
        "plt.hist(t1)\n",
        "plt.xlabel(\"User Load in Component 1\", fontsize=20)\n",
        "plt.ylabel(\"Frequency\", fontsize=20)\n",
        "plt.tick_params(labelsize=15)\n",
        "plt.show()"
      ],
      "execution_count": 0,
      "outputs": []
    },
    {
      "metadata": {
        "id": "M4FtUepEqPr4",
        "colab_type": "code",
        "colab": {}
      },
      "cell_type": "code",
      "source": [
        "\n",
        "categorical_columns = ['body_type',\n",
        "                      'diet',\n",
        "                      'drinks',\n",
        "                      'drugs',\n",
        "                      'education',\n",
        "                      'job',\n",
        "                      'offspring',\n",
        "                      'orientation',\n",
        "                      'pets',\n",
        "                      'religion',\n",
        "                       'sign',\n",
        "                       'sex',\n",
        "                       'smokes',\n",
        "                       'status']\n",
        "profiles_lda = pd.get_dummies(profiles, \n",
        "                                columns = categorical_columns)\n",
        "\n",
        "\n",
        "profiles_lda = profiles_lda.drop(columns=['income','speaks','ethnicity'])\n",
        "\n",
        "\n",
        "# for col in profiles_lda.columns:\n",
        "#     if 'ethnicity' in col and col.count(',') > 1:\n",
        "#         profiles_lda = profiles_lda.drop(columns = [col])\n",
        "        \n",
        "        \n",
        "sub_columns = [c for c in profiles_lda.columns.values if \n",
        "  (profiles_lda[c].dtype == np.uint8) or \n",
        "   (profiles_lda[c].dtype == np.int64) or\n",
        "   (profiles_lda[c].dtype == np.float64)]\n",
        "\n",
        "profiles_lda = profiles_lda[sub_columns]\n",
        "\n",
        "profiles_lda = profiles_lda.dropna()\n",
        "\n",
        "        # split male/female\n",
        "profiles_lda_m = profiles_lda.loc[profiles_lda[\"sex_m\"] == 1,:]\n",
        "profiles_lda_m = profiles_lda_m.drop(columns=['sex_m','sex_f'])\n",
        "profiles_lda_f = profiles_lda.loc[profiles_lda[\"sex_f\"] == 1,:]\n",
        "profiles_lda_f = profiles_lda_f.drop(columns=['sex_m','sex_f'])   \n",
        "\n",
        "        \n",
        "        \n"
      ],
      "execution_count": 0,
      "outputs": []
    }
  ]
}